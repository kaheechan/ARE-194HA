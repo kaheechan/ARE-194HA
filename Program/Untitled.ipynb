{
 "cells": [
  {
   "cell_type": "code",
   "execution_count": 1,
   "id": "30c7547a",
   "metadata": {},
   "outputs": [],
   "source": [
    "import pandas as pd"
   ]
  },
  {
   "cell_type": "code",
   "execution_count": 4,
   "id": "fb0c3fef",
   "metadata": {},
   "outputs": [
    {
     "data": {
      "text/html": [
       "<div>\n",
       "<style scoped>\n",
       "    .dataframe tbody tr th:only-of-type {\n",
       "        vertical-align: middle;\n",
       "    }\n",
       "\n",
       "    .dataframe tbody tr th {\n",
       "        vertical-align: top;\n",
       "    }\n",
       "\n",
       "    .dataframe thead th {\n",
       "        text-align: right;\n",
       "    }\n",
       "</style>\n",
       "<table border=\"1\" class=\"dataframe\">\n",
       "  <thead>\n",
       "    <tr style=\"text-align: right;\">\n",
       "      <th></th>\n",
       "      <th>Unnamed: 0</th>\n",
       "      <th>Category</th>\n",
       "      <th>Promotion Channels</th>\n",
       "      <th>Extrapolated Ticket Quantity</th>\n",
       "      <th>Extrapolated Ticket Quantity Percentage</th>\n",
       "    </tr>\n",
       "  </thead>\n",
       "  <tbody>\n",
       "    <tr>\n",
       "      <th>0</th>\n",
       "      <td>0</td>\n",
       "      <td>USPS Mail</td>\n",
       "      <td>Brochure, Flyer, Postcard</td>\n",
       "      <td>2.00</td>\n",
       "      <td>9.52</td>\n",
       "    </tr>\n",
       "    <tr>\n",
       "      <th>1</th>\n",
       "      <td>1</td>\n",
       "      <td>Online</td>\n",
       "      <td>Email</td>\n",
       "      <td>8.78</td>\n",
       "      <td>41.81</td>\n",
       "    </tr>\n",
       "    <tr>\n",
       "      <th>2</th>\n",
       "      <td>2</td>\n",
       "      <td>Others</td>\n",
       "      <td>Returning Patron</td>\n",
       "      <td>7.11</td>\n",
       "      <td>33.86</td>\n",
       "    </tr>\n",
       "    <tr>\n",
       "      <th>3</th>\n",
       "      <td>3</td>\n",
       "      <td>Magazines &amp; Newspapers</td>\n",
       "      <td>The Epoch Times</td>\n",
       "      <td>0.67</td>\n",
       "      <td>3.19</td>\n",
       "    </tr>\n",
       "    <tr>\n",
       "      <th>4</th>\n",
       "      <td>4</td>\n",
       "      <td>Outdoor</td>\n",
       "      <td>Billboard</td>\n",
       "      <td>2.44</td>\n",
       "      <td>11.62</td>\n",
       "    </tr>\n",
       "  </tbody>\n",
       "</table>\n",
       "</div>"
      ],
      "text/plain": [
       "   Unnamed: 0                Category         Promotion Channels  \\\n",
       "0           0               USPS Mail  Brochure, Flyer, Postcard   \n",
       "1           1                  Online                      Email   \n",
       "2           2                  Others           Returning Patron   \n",
       "3           3  Magazines & Newspapers            The Epoch Times   \n",
       "4           4                 Outdoor                  Billboard   \n",
       "\n",
       "   Extrapolated Ticket Quantity  Extrapolated Ticket Quantity Percentage  \n",
       "0                          2.00                                     9.52  \n",
       "1                          8.78                                    41.81  \n",
       "2                          7.11                                    33.86  \n",
       "3                          0.67                                     3.19  \n",
       "4                          2.44                                    11.62  "
      ]
     },
     "execution_count": 4,
     "metadata": {},
     "output_type": "execute_result"
    }
   ],
   "source": [
    "Test = pd.read_csv(\"/Users/kaheechan/Desktop/ARE194HA/Program/test.csv\")\n",
    "Test"
   ]
  },
  {
   "cell_type": "code",
   "execution_count": null,
   "id": "69dfdb62",
   "metadata": {},
   "outputs": [],
   "source": []
  }
 ],
 "metadata": {
  "kernelspec": {
   "display_name": "Python 3 (ipykernel)",
   "language": "python",
   "name": "python3"
  },
  "language_info": {
   "codemirror_mode": {
    "name": "ipython",
    "version": 3
   },
   "file_extension": ".py",
   "mimetype": "text/x-python",
   "name": "python",
   "nbconvert_exporter": "python",
   "pygments_lexer": "ipython3",
   "version": "3.10.9"
  }
 },
 "nbformat": 4,
 "nbformat_minor": 5
}
